{
 "cells": [
  {
   "cell_type": "code",
   "execution_count": 8,
   "metadata": {},
   "outputs": [
    {
     "name": "stdout",
     "output_type": "stream",
     "text": [
      "Sum on list [15,1,2,3,67,10] using custom reduce function 98\n",
      "Filter only positive Integers on list [0,1,-2,3,4,5,10,-50,50] using custom filter function[1, 3, 4, 5, 10, 50]\n"
     ]
    }
   ],
   "source": [
    "#:-Mukesh Kumar Sanodiya\n",
    "#:-12-Dec-2018\n",
    "#:- 1.1 Write a Python Program to implement your own myreduce() function which works exactly\n",
    "        #like Python's built-in function reduce()\n",
    "#:- 1.2 Write a Python program to implement your own myfilter() function which works exactly like\n",
    "        #Python's built-in function filter()    \n",
    "    \n",
    "def Mukeshreduce(anyfunc, sequence):\n",
    "    result = sequence[0]\n",
    "    for item in sequence[1:]:\n",
    "        result = anyfunc(result, item)\n",
    "    return result\n",
    "def Mukeshfilter(anyfunc, sequence):\n",
    "    result = []\n",
    "    for item in sequence:\n",
    "        if anyfunc(item):\n",
    "            result.append(item)\n",
    "    return result\n",
    "def sum(x,y): return x + y\n",
    "def ispositive(x):\n",
    "    if (x <= 0): \n",
    "        return False \n",
    "    else: \n",
    "        return True\n",
    "\n",
    "print (\"Sum on list [15,1,2,3,67,10] using custom reduce function \"   + str(Mukeshreduce(sum, [15,1,2,3,67,10])) )\n",
    "print (\"Filter only positive Integers on list [0,1,-2,3,4,5,10,-50,50] using custom filter function\"  \n",
    "       + str(Mukeshfilter(ispositive, [0,1,-2,3,4,5,10,-50,50])))"
   ]
  },
  {
   "cell_type": "code",
   "execution_count": 16,
   "metadata": {},
   "outputs": [
    {
     "name": "stdout",
     "output_type": "stream",
     "text": [
      "ACADGILD :- ['A', 'C', 'A', 'D', 'G', 'I', 'L', 'D']\n",
      "['x','y','z'] :- ['x', 'xx', 'xxx', 'xxxx', 'y', 'yy', 'yyy', 'yyyy', 'z', 'zz', 'zzz', 'zzzz']\n",
      "['x','y','z'] :- ['x', 'y', 'z', 'xx', 'yy', 'zz', 'xxx', 'yyy', 'zzz', 'xxxx', 'yyyy', 'zzzz']\n",
      "[2,3,4] :-[[2], [3], [4], [3], [4], [5], [4], [5], [6]]\n",
      "[2,3,4,5] :-[[2, 3, 4, 5], [3, 4, 5, 6], [4, 5, 6, 7], [5, 6, 7, 8]]\n",
      "[1,2,3] :-[(1, 1), (2, 1), (3, 1), (1, 2), (2, 2), (3, 2), (1, 3), (2, 3), (3, 3)]\n"
     ]
    }
   ],
   "source": [
    "#:-Mukesh Kumar Sanodiya\n",
    "#:-12-Dec-2018\n",
    "#:-2. Implement List comprehensions to produce the following lists.\n",
    "        #Write List comprehensions to produce the following Lists\n",
    "        #['A', 'C', 'A', 'D', 'G', 'I', ’L’, ‘ D’]\n",
    "        #['x', 'xx', 'xxx', 'xxxx', 'y', 'yy', 'yyy', 'yyyy', 'z', 'zz', 'zzz', 'zzzz']\n",
    "        #['x', 'y', 'z', 'xx', 'yy', 'zz', 'xxx', 'yyy', 'zzz', 'xxxx', 'yyyy', 'zzzz']\n",
    "        #[[2], [3], [4], [3], [4], [5], [4], [5], [6]]\n",
    "        #[[2, 3, 4, 5], [3, 4, 5, 6], [4, 5, 6, 7], [5, 6, 7, 8]]\n",
    "        #[(1, 1), (2, 1), (3, 1), (1, 2), (2, 2), (3, 2), (1, 3), (2, 3), (3, 3)]\n",
    "\n",
    "W = \"ACADGILD\"\n",
    "alphabet_list = [ alphabet for alphabet in W ]\n",
    "print (\"ACADGILD :- \" + str(alphabet_list))\n",
    "\n",
    "IL = ['x','y','z']\n",
    "result = [ item*num for item in IL for num in range(1,5)  ]\n",
    "print(\"['x','y','z'] :- \" +   str(result))\n",
    "\n",
    "IL = ['x','y','z']\n",
    "result = [ item*num for num in range(1,5) for item in IL  ]\n",
    "print(\"['x','y','z'] :- \" +   str(result))\n",
    "\n",
    "IL = [2,3,4]\n",
    "result = [ [item+num] for item in IL for num in range(0,3)]\n",
    "print(\"[2,3,4] :-\" +  str(result))\n",
    "\n",
    "IL = [2,3,4,5]\n",
    "result = [ [item+num for item in IL] for num in range(0,4)  ]\n",
    "print(\"[2,3,4,5] :-\" +  str(result))\n",
    "\n",
    "IL=[1,2,3]\n",
    "result = [ (b,a) for a in IL for b in input_list]\n",
    "print(\"[1,2,3] :-\" +  str(result))"
   ]
  },
  {
   "cell_type": "code",
   "execution_count": 20,
   "metadata": {},
   "outputs": [
    {
     "name": "stdout",
     "output_type": "stream",
     "text": [
      "Longest Word :- Sanodiya\n"
     ]
    }
   ],
   "source": [
    "#:-Mukesh Kumar Sanodiya\n",
    "#:-12-Dec-2018\n",
    "#:- 3. Implement a function longestWord() that takes a list of words and returns the longest one.\n",
    "\n",
    "def LWF(wl):\n",
    "    wln = []\n",
    "    for n in wl:\n",
    "        wln.append((len(n), n))\n",
    "    wln.sort()\n",
    "    return wln[-1][1]\n",
    "\n",
    "print ('Longest Word :- '+ LWF(['Mukesh', 'Kumar', 'Sanodiya']))"
   ]
  },
  {
   "cell_type": "code",
   "execution_count": null,
   "metadata": {},
   "outputs": [],
   "source": []
  },
  {
   "cell_type": "code",
   "execution_count": null,
   "metadata": {},
   "outputs": [],
   "source": []
  },
  {
   "cell_type": "code",
   "execution_count": null,
   "metadata": {},
   "outputs": [],
   "source": []
  },
  {
   "cell_type": "code",
   "execution_count": null,
   "metadata": {},
   "outputs": [],
   "source": []
  },
  {
   "cell_type": "code",
   "execution_count": null,
   "metadata": {},
   "outputs": [],
   "source": []
  },
  {
   "cell_type": "code",
   "execution_count": null,
   "metadata": {},
   "outputs": [],
   "source": []
  },
  {
   "cell_type": "code",
   "execution_count": null,
   "metadata": {},
   "outputs": [],
   "source": []
  }
 ],
 "metadata": {
  "kernelspec": {
   "display_name": "Python 3",
   "language": "python",
   "name": "python3"
  },
  "language_info": {
   "codemirror_mode": {
    "name": "ipython",
    "version": 3
   },
   "file_extension": ".py",
   "mimetype": "text/x-python",
   "name": "python",
   "nbconvert_exporter": "python",
   "pygments_lexer": "ipython3",
   "version": "3.7.0"
  }
 },
 "nbformat": 4,
 "nbformat_minor": 2
}
